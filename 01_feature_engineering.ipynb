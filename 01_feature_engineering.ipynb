{
 "cells": [
  {
   "cell_type": "code",
   "execution_count": 43,
   "id": "acab250b-cf49-423e-8460-b30634b70203",
   "metadata": {},
   "outputs": [],
   "source": [
    "import warnings\n",
    "warnings.filterwarnings('ignore')"
   ]
  },
  {
   "cell_type": "code",
   "execution_count": 44,
   "id": "16a014ab-6132-4163-a762-f8b0db63c2a3",
   "metadata": {},
   "outputs": [],
   "source": [
    "%matplotlib inline\n",
    "\n",
    "from datetime import datetime\n",
    "import pandas as pd\n",
    "import pandas_datareader.data as web\n",
    "\n",
    "# replaces pyfinance.ols.PandasRollingOLS (no longer maintained)\n",
    "from statsmodels.regression.rolling import RollingOLS\n",
    "import statsmodels.api as sm\n",
    "\n",
    "import matplotlib.pyplot as plt\n",
    "import seaborn as sns"
   ]
  },
  {
   "cell_type": "code",
   "execution_count": 45,
   "id": "5fe8de9a-6352-4bee-81ea-ddaef61a2b4d",
   "metadata": {},
   "outputs": [],
   "source": [
    "sns.set_style('whitegrid')\n",
    "idx = pd.IndexSlice"
   ]
  },
  {
   "cell_type": "code",
   "execution_count": 46,
   "id": "56291c8a-231b-40b3-95f9-dbaabe392ae9",
   "metadata": {},
   "outputs": [],
   "source": [
    "#data_path = Path('/Volumes/My Book/Data_Analysis/Nasdaq') # set to e.g. external harddrive\n",
    "DATA_STORE = '/Volumes/My Book/Data_Analysis/Nasdaq/assets.h5'"
   ]
  },
  {
   "cell_type": "code",
   "execution_count": 47,
   "id": "8205cb60-9a1e-4ce4-beaa-798cd024a5ad",
   "metadata": {},
   "outputs": [],
   "source": [
    "START = 2000\n",
    "END = 2018"
   ]
  },
  {
   "cell_type": "code",
   "execution_count": 90,
   "id": "62019482-3b89-4714-95b9-7aaf72235cbb",
   "metadata": {},
   "outputs": [],
   "source": [
    "with pd.HDFStore(DATA_STORE) as store:\n",
    "    prices = (store['quandl/wiki/prices']\n",
    "              .loc[idx[str(START):str(END), :], 'adj_close']\n",
    "              .unstack('ticker'))\n",
    "    stocks = store['us_equities/stocks'].loc[:, ['marketcap', 'ipoyear', 'sector']]"
   ]
  },
  {
   "cell_type": "code",
   "execution_count": 49,
   "id": "339bfc4b-d430-4da8-a546-94e1b9dcadbd",
   "metadata": {},
   "outputs": [
    {
     "name": "stdout",
     "output_type": "stream",
     "text": [
      "<class 'pandas.core.frame.DataFrame'>\n",
      "DatetimeIndex: 4706 entries, 2000-01-03 to 2018-03-27\n",
      "Columns: 3199 entries, A to ZUMZ\n",
      "dtypes: float64(3199)\n",
      "memory usage: 114.9 MB\n"
     ]
    }
   ],
   "source": [
    "prices.info()"
   ]
  },
  {
   "cell_type": "code",
   "execution_count": 50,
   "id": "9ffed479-2735-4c0c-aa89-c910fa479e28",
   "metadata": {},
   "outputs": [
    {
     "name": "stdout",
     "output_type": "stream",
     "text": [
      "<class 'pandas.core.frame.DataFrame'>\n",
      "Index: 7176 entries, AAMC to ZWS\n",
      "Data columns (total 3 columns):\n",
      " #   Column     Non-Null Count  Dtype \n",
      "---  ------     --------------  ----- \n",
      " 0   marketcap  6759 non-null   object\n",
      " 1   ipoyear    4076 non-null   object\n",
      " 2   sector     6410 non-null   object\n",
      "dtypes: object(3)\n",
      "memory usage: 224.2+ KB\n"
     ]
    }
   ],
   "source": [
    "stocks.info()"
   ]
  },
  {
   "cell_type": "code",
   "execution_count": 51,
   "id": "8be376f2-18b7-450c-b9d1-4443828364ab",
   "metadata": {},
   "outputs": [],
   "source": [
    "# Remove stocks duplicates and align index names for later joining.\n",
    "stocks = stocks[~stocks.index.duplicated()]\n",
    "stocks.index.name = 'ticker'\n"
   ]
  },
  {
   "cell_type": "code",
   "execution_count": 52,
   "id": "2e9de586-3229-4f95-8dca-fb8860b09d97",
   "metadata": {},
   "outputs": [],
   "source": [
    "# Keep data with stock info. Get tickers with both price information and metdata.\n",
    "shared = prices.columns.intersection(stocks.index)"
   ]
  },
  {
   "cell_type": "code",
   "execution_count": 53,
   "id": "b48ed43a-fa6d-4520-863f-c8b2e5f10dc0",
   "metadata": {},
   "outputs": [
    {
     "name": "stdout",
     "output_type": "stream",
     "text": [
      "<class 'pandas.core.frame.DataFrame'>\n",
      "Index: 1795 entries, A to ZUMZ\n",
      "Data columns (total 3 columns):\n",
      " #   Column     Non-Null Count  Dtype \n",
      "---  ------     --------------  ----- \n",
      " 0   marketcap  1795 non-null   object\n",
      " 1   ipoyear    824 non-null    object\n",
      " 2   sector     1780 non-null   object\n",
      "dtypes: object(3)\n",
      "memory usage: 56.1+ KB\n"
     ]
    }
   ],
   "source": [
    "stocks = stocks.loc[shared, :]\n",
    "stocks.info()"
   ]
  },
  {
   "cell_type": "code",
   "execution_count": 54,
   "id": "365ee02d-8fa1-4295-8abe-4ffa3d91e7af",
   "metadata": {},
   "outputs": [
    {
     "name": "stdout",
     "output_type": "stream",
     "text": [
      "<class 'pandas.core.frame.DataFrame'>\n",
      "DatetimeIndex: 4706 entries, 2000-01-03 to 2018-03-27\n",
      "Columns: 1795 entries, A to ZUMZ\n",
      "dtypes: float64(1795)\n",
      "memory usage: 64.5 MB\n"
     ]
    }
   ],
   "source": [
    "prices = prices.loc[:, shared]\n",
    "prices.info()"
   ]
  },
  {
   "cell_type": "code",
   "execution_count": 55,
   "id": "30dc63d7-7d69-4f75-b48f-7346a071863b",
   "metadata": {},
   "outputs": [],
   "source": [
    "assert prices.shape[1] == stocks.shape[0]"
   ]
  },
  {
   "cell_type": "code",
   "execution_count": 56,
   "id": "1e8a64ce-3365-4f32-9eb2-f1f7ee439dee",
   "metadata": {},
   "outputs": [],
   "source": [
    "# To reduce training time and experiment with strategies for longer time horizons, we convert the business-daily data to month-end frequency.\n",
    "monthly_prices = prices.resample('M').last()"
   ]
  },
  {
   "cell_type": "code",
   "execution_count": 57,
   "id": "87b687b8-86ae-4223-80b1-1798b4f0c03e",
   "metadata": {},
   "outputs": [
    {
     "name": "stdout",
     "output_type": "stream",
     "text": [
      "<class 'pandas.core.frame.DataFrame'>\n",
      "DatetimeIndex: 219 entries, 2000-01-31 to 2018-03-31\n",
      "Freq: M\n",
      "Columns: 1795 entries, A to ZUMZ\n",
      "dtypes: float64(1795)\n",
      "memory usage: 3.0 MB\n"
     ]
    }
   ],
   "source": [
    "monthly_prices.info()"
   ]
  },
  {
   "cell_type": "code",
   "execution_count": 58,
   "id": "cb1b5958-e570-45f8-9395-1bece25cc9c3",
   "metadata": {},
   "outputs": [
    {
     "name": "stdout",
     "output_type": "stream",
     "text": [
      "<class 'pandas.core.frame.DataFrame'>\n",
      "MultiIndex: 307217 entries, ('A', Timestamp('2001-01-31 00:00:00')) to ('ZUMZ', Timestamp('2018-03-31 00:00:00'))\n",
      "Data columns (total 6 columns):\n",
      " #   Column      Non-Null Count   Dtype  \n",
      "---  ------      --------------   -----  \n",
      " 0   return_1m   307217 non-null  float64\n",
      " 1   return_2m   307217 non-null  float64\n",
      " 2   return_3m   307217 non-null  float64\n",
      " 3   return_6m   307217 non-null  float64\n",
      " 4   return_9m   307217 non-null  float64\n",
      " 5   return_12m  307217 non-null  float64\n",
      "dtypes: float64(6)\n",
      "memory usage: 15.3+ MB\n"
     ]
    }
   ],
   "source": [
    "outlier_cutoff = 0.01\n",
    "data = pd.DataFrame()\n",
    "lags = [1, 2, 3, 6, 9, 12]\n",
    "for lag in lags:\n",
    "    data[f'return_{lag}m'] = (monthly_prices\n",
    "                           .pct_change(lag)\n",
    "                           .stack()\n",
    "                           .pipe(lambda x: x.clip(lower=x.quantile(outlier_cutoff),\n",
    "                                                  upper=x.quantile(1-outlier_cutoff)))\n",
    "                           .add(1)\n",
    "                           .pow(1/lag)\n",
    "                           .sub(1)\n",
    "                           )\n",
    "data = data.swaplevel().dropna()\n",
    "data.info()"
   ]
  },
  {
   "cell_type": "code",
   "execution_count": 59,
   "id": "97646021-90d7-4998-815c-635e59208da5",
   "metadata": {},
   "outputs": [
    {
     "name": "stdout",
     "output_type": "stream",
     "text": [
      "<class 'pandas.core.frame.DataFrame'>\n",
      "MultiIndex: 282041 entries, ('A', Timestamp('2001-01-31 00:00:00')) to ('ZUMZ', Timestamp('2018-03-31 00:00:00'))\n",
      "Data columns (total 6 columns):\n",
      " #   Column      Non-Null Count   Dtype  \n",
      "---  ------      --------------   -----  \n",
      " 0   return_1m   282041 non-null  float64\n",
      " 1   return_2m   282041 non-null  float64\n",
      " 2   return_3m   282041 non-null  float64\n",
      " 3   return_6m   282041 non-null  float64\n",
      " 4   return_9m   282041 non-null  float64\n",
      " 5   return_12m  282041 non-null  float64\n",
      "dtypes: float64(6)\n",
      "memory usage: 14.1+ MB\n"
     ]
    }
   ],
   "source": [
    "# Drop stocks with less than 10 years of data\n",
    "min_obs = 120\n",
    "nobs = data.groupby(level='ticker').size()\n",
    "keep = nobs[nobs>min_obs].index\n",
    "\n",
    "data = data.loc[idx[keep,:], :]\n",
    "data.info()"
   ]
  },
  {
   "cell_type": "code",
   "execution_count": 60,
   "id": "ccdbe218-ee2c-46f5-8492-f4a716d2c1be",
   "metadata": {},
   "outputs": [
    {
     "data": {
      "text/html": [
       "<div>\n",
       "<style scoped>\n",
       "    .dataframe tbody tr th:only-of-type {\n",
       "        vertical-align: middle;\n",
       "    }\n",
       "\n",
       "    .dataframe tbody tr th {\n",
       "        vertical-align: top;\n",
       "    }\n",
       "\n",
       "    .dataframe thead th {\n",
       "        text-align: right;\n",
       "    }\n",
       "</style>\n",
       "<table border=\"1\" class=\"dataframe\">\n",
       "  <thead>\n",
       "    <tr style=\"text-align: right;\">\n",
       "      <th></th>\n",
       "      <th>return_1m</th>\n",
       "      <th>return_2m</th>\n",
       "      <th>return_3m</th>\n",
       "      <th>return_6m</th>\n",
       "      <th>return_9m</th>\n",
       "      <th>return_12m</th>\n",
       "    </tr>\n",
       "  </thead>\n",
       "  <tbody>\n",
       "    <tr>\n",
       "      <th>count</th>\n",
       "      <td>282041.000000</td>\n",
       "      <td>282041.000000</td>\n",
       "      <td>282041.000000</td>\n",
       "      <td>282041.000000</td>\n",
       "      <td>282041.000000</td>\n",
       "      <td>282041.000000</td>\n",
       "    </tr>\n",
       "    <tr>\n",
       "      <th>mean</th>\n",
       "      <td>0.012666</td>\n",
       "      <td>0.009906</td>\n",
       "      <td>0.008957</td>\n",
       "      <td>0.007915</td>\n",
       "      <td>0.007483</td>\n",
       "      <td>0.007257</td>\n",
       "    </tr>\n",
       "    <tr>\n",
       "      <th>std</th>\n",
       "      <td>0.108740</td>\n",
       "      <td>0.077121</td>\n",
       "      <td>0.063199</td>\n",
       "      <td>0.045837</td>\n",
       "      <td>0.037701</td>\n",
       "      <td>0.032794</td>\n",
       "    </tr>\n",
       "    <tr>\n",
       "      <th>min</th>\n",
       "      <td>-0.312147</td>\n",
       "      <td>-0.240595</td>\n",
       "      <td>-0.202469</td>\n",
       "      <td>-0.152006</td>\n",
       "      <td>-0.123873</td>\n",
       "      <td>-0.106358</td>\n",
       "    </tr>\n",
       "    <tr>\n",
       "      <th>25%</th>\n",
       "      <td>-0.043390</td>\n",
       "      <td>-0.028320</td>\n",
       "      <td>-0.021749</td>\n",
       "      <td>-0.013023</td>\n",
       "      <td>-0.009382</td>\n",
       "      <td>-0.007315</td>\n",
       "    </tr>\n",
       "    <tr>\n",
       "      <th>50%</th>\n",
       "      <td>0.009834</td>\n",
       "      <td>0.010256</td>\n",
       "      <td>0.010240</td>\n",
       "      <td>0.009900</td>\n",
       "      <td>0.009572</td>\n",
       "      <td>0.009318</td>\n",
       "    </tr>\n",
       "    <tr>\n",
       "      <th>75%</th>\n",
       "      <td>0.064384</td>\n",
       "      <td>0.048373</td>\n",
       "      <td>0.041399</td>\n",
       "      <td>0.031683</td>\n",
       "      <td>0.027069</td>\n",
       "      <td>0.024558</td>\n",
       "    </tr>\n",
       "    <tr>\n",
       "      <th>max</th>\n",
       "      <td>0.407464</td>\n",
       "      <td>0.265929</td>\n",
       "      <td>0.210136</td>\n",
       "      <td>0.146513</td>\n",
       "      <td>0.119331</td>\n",
       "      <td>0.102254</td>\n",
       "    </tr>\n",
       "  </tbody>\n",
       "</table>\n",
       "</div>"
      ],
      "text/plain": [
       "           return_1m      return_2m      return_3m      return_6m  \\\n",
       "count  282041.000000  282041.000000  282041.000000  282041.000000   \n",
       "mean        0.012666       0.009906       0.008957       0.007915   \n",
       "std         0.108740       0.077121       0.063199       0.045837   \n",
       "min        -0.312147      -0.240595      -0.202469      -0.152006   \n",
       "25%        -0.043390      -0.028320      -0.021749      -0.013023   \n",
       "50%         0.009834       0.010256       0.010240       0.009900   \n",
       "75%         0.064384       0.048373       0.041399       0.031683   \n",
       "max         0.407464       0.265929       0.210136       0.146513   \n",
       "\n",
       "           return_9m     return_12m  \n",
       "count  282041.000000  282041.000000  \n",
       "mean        0.007483       0.007257  \n",
       "std         0.037701       0.032794  \n",
       "min        -0.123873      -0.106358  \n",
       "25%        -0.009382      -0.007315  \n",
       "50%         0.009572       0.009318  \n",
       "75%         0.027069       0.024558  \n",
       "max         0.119331       0.102254  "
      ]
     },
     "execution_count": 60,
     "metadata": {},
     "output_type": "execute_result"
    }
   ],
   "source": [
    "data.describe()"
   ]
  },
  {
   "cell_type": "code",
   "execution_count": 61,
   "id": "9fa54504-f60f-4d9f-8ec3-27ce6fbe6eef",
   "metadata": {},
   "outputs": [
    {
     "data": {
      "image/png": "[encoded data removed]",
      "text/plain": [
       "<Figure size 1000x1000 with 4 Axes>"
      ]
     },
     "metadata": {},
     "output_type": "display_data"
    }
   ],
   "source": [
    "# cmap = sns.diverging_palette(10, 220, as_cmap=True)\n",
    "sns.clustermap(data.corr('spearman'), annot=True, center=0, cmap='Greens');"
   ]
  },
  {
   "cell_type": "code",
   "execution_count": 62,
   "id": "f4922ba5-89a8-4809-a478-4235d619a685",
   "metadata": {},
   "outputs": [
    {
     "data": {
      "text/plain": [
       "1431"
      ]
     },
     "execution_count": 62,
     "metadata": {},
     "output_type": "execute_result"
    }
   ],
   "source": [
    "data.index.get_level_values('ticker').nunique()"
   ]
  },
  {
   "cell_type": "code",
   "execution_count": 63,
   "id": "a2018b9a-b51e-4043-9c02-7f53b33d4cf8",
   "metadata": {},
   "outputs": [
    {
     "name": "stdout",
     "output_type": "stream",
     "text": [
      "<class 'pandas.core.frame.DataFrame'>\n",
      "DatetimeIndex: 288 entries, 2000-01-31 to 2023-12-31\n",
      "Freq: M\n",
      "Data columns (total 5 columns):\n",
      " #   Column  Non-Null Count  Dtype  \n",
      "---  ------  --------------  -----  \n",
      " 0   Mkt-RF  288 non-null    float64\n",
      " 1   SMB     288 non-null    float64\n",
      " 2   HML     288 non-null    float64\n",
      " 3   RMW     288 non-null    float64\n",
      " 4   CMA     288 non-null    float64\n",
      "dtypes: float64(5)\n",
      "memory usage: 13.5 KB\n"
     ]
    }
   ],
   "source": [
    "# Use Fama-French research factors to estimate the factor exposures of the stock in the dataset to the 5 factors market risk, size, value, operating profitability and investment.\n",
    "factors = ['Mkt-RF', 'SMB', 'HML', 'RMW', 'CMA']\n",
    "factor_data = web.DataReader('F-F_Research_Data_5_Factors_2x3', 'famafrench', start='2000')[0].drop('RF', axis=1)\n",
    "factor_data.index = factor_data.index.to_timestamp()\n",
    "factor_data = factor_data.resample('M').last().div(100)\n",
    "factor_data.index.name = 'date'\n",
    "factor_data.info()"
   ]
  },
  {
   "cell_type": "code",
   "execution_count": 64,
   "id": "d230847d-55ce-4d38-ac60-65c035773c8f",
   "metadata": {},
   "outputs": [
    {
     "name": "stdout",
     "output_type": "stream",
     "text": [
      "<class 'pandas.core.frame.DataFrame'>\n",
      "MultiIndex: 282041 entries, ('A', Timestamp('2001-01-31 00:00:00')) to ('ZUMZ', Timestamp('2018-03-31 00:00:00'))\n",
      "Data columns (total 6 columns):\n",
      " #   Column     Non-Null Count   Dtype  \n",
      "---  ------     --------------   -----  \n",
      " 0   Mkt-RF     282041 non-null  float64\n",
      " 1   SMB        282041 non-null  float64\n",
      " 2   HML        282041 non-null  float64\n",
      " 3   RMW        282041 non-null  float64\n",
      " 4   CMA        282041 non-null  float64\n",
      " 5   return_1m  282041 non-null  float64\n",
      "dtypes: float64(6)\n",
      "memory usage: 14.1+ MB\n"
     ]
    }
   ],
   "source": [
    "factor_data = factor_data.join(data['return_1m']).sort_index()\n",
    "factor_data.info()"
   ]
  },
  {
   "cell_type": "code",
   "execution_count": 65,
   "id": "ea73e41a-5784-4630-9737-782bfeed2be5",
   "metadata": {},
   "outputs": [],
   "source": [
    "T = 24\n",
    "betas = (factor_data.groupby(level='ticker',\n",
    "                             group_keys=False)\n",
    "         .apply(lambda x: RollingOLS(endog=x.return_1m,\n",
    "                                     exog=sm.add_constant(x.drop('return_1m', axis=1)),\n",
    "                                     window=min(T, x.shape[0]-1))\n",
    "                .fit(params_only=True)\n",
    "                .params\n",
    "                .drop('const', axis=1)))"
   ]
  },
  {
   "cell_type": "code",
   "execution_count": 66,
   "id": "3d257d3d-cd40-41cc-91e6-7dbad7e74f10",
   "metadata": {},
   "outputs": [
    {
     "data": {
      "text/html": [
       "<div>\n",
       "<style scoped>\n",
       "    .dataframe tbody tr th:only-of-type {\n",
       "        vertical-align: middle;\n",
       "    }\n",
       "\n",
       "    .dataframe tbody tr th {\n",
       "        vertical-align: top;\n",
       "    }\n",
       "\n",
       "    .dataframe thead th {\n",
       "        text-align: right;\n",
       "    }\n",
       "</style>\n",
       "<table border=\"1\" class=\"dataframe\">\n",
       "  <thead>\n",
       "    <tr style=\"text-align: right;\">\n",
       "      <th></th>\n",
       "      <th>Mkt-RF</th>\n",
       "      <th>SMB</th>\n",
       "      <th>HML</th>\n",
       "      <th>RMW</th>\n",
       "      <th>CMA</th>\n",
       "      <th>total</th>\n",
       "    </tr>\n",
       "  </thead>\n",
       "  <tbody>\n",
       "    <tr>\n",
       "      <th>count</th>\n",
       "      <td>249128.000000</td>\n",
       "      <td>249128.000000</td>\n",
       "      <td>249128.000000</td>\n",
       "      <td>249128.000000</td>\n",
       "      <td>249128.000000</td>\n",
       "      <td>282041.000000</td>\n",
       "    </tr>\n",
       "    <tr>\n",
       "      <th>mean</th>\n",
       "      <td>0.963733</td>\n",
       "      <td>0.608535</td>\n",
       "      <td>0.116022</td>\n",
       "      <td>-0.031059</td>\n",
       "      <td>0.031575</td>\n",
       "      <td>1.491730</td>\n",
       "    </tr>\n",
       "    <tr>\n",
       "      <th>std</th>\n",
       "      <td>0.876592</td>\n",
       "      <td>1.211080</td>\n",
       "      <td>1.505593</td>\n",
       "      <td>1.788132</td>\n",
       "      <td>2.044738</td>\n",
       "      <td>3.132154</td>\n",
       "    </tr>\n",
       "    <tr>\n",
       "      <th>min</th>\n",
       "      <td>-9.732157</td>\n",
       "      <td>-10.192981</td>\n",
       "      <td>-15.198585</td>\n",
       "      <td>-22.239353</td>\n",
       "      <td>-15.497838</td>\n",
       "      <td>-32.261710</td>\n",
       "    </tr>\n",
       "    <tr>\n",
       "      <th>25%</th>\n",
       "      <td>0.463709</td>\n",
       "      <td>-0.121891</td>\n",
       "      <td>-0.678672</td>\n",
       "      <td>-0.895737</td>\n",
       "      <td>-1.016130</td>\n",
       "      <td>0.000000</td>\n",
       "    </tr>\n",
       "    <tr>\n",
       "      <th>50%</th>\n",
       "      <td>0.919090</td>\n",
       "      <td>0.520128</td>\n",
       "      <td>0.088515</td>\n",
       "      <td>0.059733</td>\n",
       "      <td>0.051939</td>\n",
       "      <td>1.223143</td>\n",
       "    </tr>\n",
       "    <tr>\n",
       "      <th>75%</th>\n",
       "      <td>1.415010</td>\n",
       "      <td>1.266986</td>\n",
       "      <td>0.905460</td>\n",
       "      <td>0.935195</td>\n",
       "      <td>1.103998</td>\n",
       "      <td>3.089208</td>\n",
       "    </tr>\n",
       "    <tr>\n",
       "      <th>max</th>\n",
       "      <td>9.601112</td>\n",
       "      <td>9.992596</td>\n",
       "      <td>14.751297</td>\n",
       "      <td>13.308557</td>\n",
       "      <td>14.448755</td>\n",
       "      <td>30.018644</td>\n",
       "    </tr>\n",
       "  </tbody>\n",
       "</table>\n",
       "</div>"
      ],
      "text/plain": [
       "              Mkt-RF            SMB            HML            RMW  \\\n",
       "count  249128.000000  249128.000000  249128.000000  249128.000000   \n",
       "mean        0.963733       0.608535       0.116022      -0.031059   \n",
       "std         0.876592       1.211080       1.505593       1.788132   \n",
       "min        -9.732157     -10.192981     -15.198585     -22.239353   \n",
       "25%         0.463709      -0.121891      -0.678672      -0.895737   \n",
       "50%         0.919090       0.520128       0.088515       0.059733   \n",
       "75%         1.415010       1.266986       0.905460       0.935195   \n",
       "max         9.601112       9.992596      14.751297      13.308557   \n",
       "\n",
       "                 CMA          total  \n",
       "count  249128.000000  282041.000000  \n",
       "mean        0.031575       1.491730  \n",
       "std         2.044738       3.132154  \n",
       "min       -15.497838     -32.261710  \n",
       "25%        -1.016130       0.000000  \n",
       "50%         0.051939       1.223143  \n",
       "75%         1.103998       3.089208  \n",
       "max        14.448755      30.018644  "
      ]
     },
     "execution_count": 66,
     "metadata": {},
     "output_type": "execute_result"
    }
   ],
   "source": [
    "betas.describe().join(betas.sum(1).describe().to_frame('total'))"
   ]
  },
  {
   "cell_type": "code",
   "execution_count": 67,
   "id": "0098a593-60d3-44aa-a1d7-52c2c04838b6",
   "metadata": {},
   "outputs": [
    {
     "data": {
      "image/png": "[encoded data removed]",
      "text/plain": [
       "<Figure size 1000x1000 with 4 Axes>"
      ]
     },
     "metadata": {},
     "output_type": "display_data"
    }
   ],
   "source": [
    "cmap = sns.diverging_palette(10, 220, as_cmap=True)\n",
    "sns.clustermap(betas.corr(), annot=True, cmap=cmap, center=0);"
   ]
  },
  {
   "cell_type": "code",
   "execution_count": 68,
   "id": "8e4b1758-8fdf-4bb9-997a-1947932916dd",
   "metadata": {},
   "outputs": [
    {
     "name": "stdout",
     "output_type": "stream",
     "text": [
      "<class 'pandas.core.frame.DataFrame'>\n",
      "MultiIndex: 282041 entries, ('A', Timestamp('2001-01-31 00:00:00')) to ('ZUMZ', Timestamp('2018-03-31 00:00:00'))\n",
      "Data columns (total 11 columns):\n",
      " #   Column      Non-Null Count   Dtype  \n",
      "---  ------      --------------   -----  \n",
      " 0   return_1m   282041 non-null  float64\n",
      " 1   return_2m   282041 non-null  float64\n",
      " 2   return_3m   282041 non-null  float64\n",
      " 3   return_6m   282041 non-null  float64\n",
      " 4   return_9m   282041 non-null  float64\n",
      " 5   return_12m  282041 non-null  float64\n",
      " 6   Mkt-RF      247697 non-null  float64\n",
      " 7   SMB         247697 non-null  float64\n",
      " 8   HML         247697 non-null  float64\n",
      " 9   RMW         247697 non-null  float64\n",
      " 10  CMA         247697 non-null  float64\n",
      "dtypes: float64(11)\n",
      "memory usage: 32.9+ MB\n"
     ]
    },
    {
     "data": {
      "text/html": [
       "<div>\n",
       "<style scoped>\n",
       "    .dataframe tbody tr th:only-of-type {\n",
       "        vertical-align: middle;\n",
       "    }\n",
       "\n",
       "    .dataframe tbody tr th {\n",
       "        vertical-align: top;\n",
       "    }\n",
       "\n",
       "    .dataframe thead th {\n",
       "        text-align: right;\n",
       "    }\n",
       "</style>\n",
       "<table border=\"1\" class=\"dataframe\">\n",
       "  <thead>\n",
       "    <tr style=\"text-align: right;\">\n",
       "      <th></th>\n",
       "      <th></th>\n",
       "      <th>return_1m</th>\n",
       "      <th>return_2m</th>\n",
       "      <th>return_3m</th>\n",
       "      <th>return_6m</th>\n",
       "      <th>return_9m</th>\n",
       "      <th>return_12m</th>\n",
       "      <th>Mkt-RF</th>\n",
       "      <th>SMB</th>\n",
       "      <th>HML</th>\n",
       "      <th>RMW</th>\n",
       "      <th>CMA</th>\n",
       "    </tr>\n",
       "    <tr>\n",
       "      <th>ticker</th>\n",
       "      <th>date</th>\n",
       "      <th></th>\n",
       "      <th></th>\n",
       "      <th></th>\n",
       "      <th></th>\n",
       "      <th></th>\n",
       "      <th></th>\n",
       "      <th></th>\n",
       "      <th></th>\n",
       "      <th></th>\n",
       "      <th></th>\n",
       "      <th></th>\n",
       "    </tr>\n",
       "  </thead>\n",
       "  <tbody>\n",
       "    <tr>\n",
       "      <th rowspan=\"5\" valign=\"top\">A</th>\n",
       "      <th>2001-01-31</th>\n",
       "      <td>-0.003653</td>\n",
       "      <td>0.022360</td>\n",
       "      <td>0.056104</td>\n",
       "      <td>0.049811</td>\n",
       "      <td>-0.052500</td>\n",
       "      <td>-0.015988</td>\n",
       "      <td>NaN</td>\n",
       "      <td>NaN</td>\n",
       "      <td>NaN</td>\n",
       "      <td>NaN</td>\n",
       "      <td>NaN</td>\n",
       "    </tr>\n",
       "    <tr>\n",
       "      <th>2001-02-28</th>\n",
       "      <td>-0.312147</td>\n",
       "      <td>-0.189115</td>\n",
       "      <td>-0.116435</td>\n",
       "      <td>-0.084141</td>\n",
       "      <td>-0.076425</td>\n",
       "      <td>-0.084537</td>\n",
       "      <td>NaN</td>\n",
       "      <td>NaN</td>\n",
       "      <td>NaN</td>\n",
       "      <td>NaN</td>\n",
       "      <td>NaN</td>\n",
       "    </tr>\n",
       "    <tr>\n",
       "      <th>2001-03-31</th>\n",
       "      <td>-0.146389</td>\n",
       "      <td>-0.240595</td>\n",
       "      <td>-0.175116</td>\n",
       "      <td>-0.074628</td>\n",
       "      <td>-0.092690</td>\n",
       "      <td>-0.096606</td>\n",
       "      <td>NaN</td>\n",
       "      <td>NaN</td>\n",
       "      <td>NaN</td>\n",
       "      <td>NaN</td>\n",
       "      <td>NaN</td>\n",
       "    </tr>\n",
       "    <tr>\n",
       "      <th>2001-04-30</th>\n",
       "      <td>0.269444</td>\n",
       "      <td>0.040966</td>\n",
       "      <td>-0.105747</td>\n",
       "      <td>-0.028185</td>\n",
       "      <td>-0.004837</td>\n",
       "      <td>-0.066102</td>\n",
       "      <td>NaN</td>\n",
       "      <td>NaN</td>\n",
       "      <td>NaN</td>\n",
       "      <td>NaN</td>\n",
       "      <td>NaN</td>\n",
       "    </tr>\n",
       "    <tr>\n",
       "      <th>2001-05-31</th>\n",
       "      <td>-0.140220</td>\n",
       "      <td>0.044721</td>\n",
       "      <td>-0.023317</td>\n",
       "      <td>-0.071042</td>\n",
       "      <td>-0.064299</td>\n",
       "      <td>-0.063425</td>\n",
       "      <td>NaN</td>\n",
       "      <td>NaN</td>\n",
       "      <td>NaN</td>\n",
       "      <td>NaN</td>\n",
       "      <td>NaN</td>\n",
       "    </tr>\n",
       "  </tbody>\n",
       "</table>\n",
       "</div>"
      ],
      "text/plain": [
       "                   return_1m  return_2m  return_3m  return_6m  return_9m  \\\n",
       "ticker date                                                                \n",
       "A      2001-01-31  -0.003653   0.022360   0.056104   0.049811  -0.052500   \n",
       "       2001-02-28  -0.312147  -0.189115  -0.116435  -0.084141  -0.076425   \n",
       "       2001-03-31  -0.146389  -0.240595  -0.175116  -0.074628  -0.092690   \n",
       "       2001-04-30   0.269444   0.040966  -0.105747  -0.028185  -0.004837   \n",
       "       2001-05-31  -0.140220   0.044721  -0.023317  -0.071042  -0.064299   \n",
       "\n",
       "                   return_12m  Mkt-RF  SMB  HML  RMW  CMA  \n",
       "ticker date                                                \n",
       "A      2001-01-31   -0.015988     NaN  NaN  NaN  NaN  NaN  \n",
       "       2001-02-28   -0.084537     NaN  NaN  NaN  NaN  NaN  \n",
       "       2001-03-31   -0.096606     NaN  NaN  NaN  NaN  NaN  \n",
       "       2001-04-30   -0.066102     NaN  NaN  NaN  NaN  NaN  \n",
       "       2001-05-31   -0.063425     NaN  NaN  NaN  NaN  NaN  "
      ]
     },
     "execution_count": 68,
     "metadata": {},
     "output_type": "execute_result"
    }
   ],
   "source": [
    "data = (data\n",
    "        .join(betas\n",
    "              .groupby(level='ticker')\n",
    "              .shift()))\n",
    "data.info()\n",
    "data.head()"
   ]
  },
  {
   "cell_type": "code",
   "execution_count": 69,
   "id": "b20bd93e-264a-413d-ac20-36c45cd41a72",
   "metadata": {},
   "outputs": [
    {
     "name": "stdout",
     "output_type": "stream",
     "text": [
      "<class 'pandas.core.frame.DataFrame'>\n",
      "MultiIndex: 282041 entries, ('A', Timestamp('2001-01-31 00:00:00')) to ('ZUMZ', Timestamp('2018-03-31 00:00:00'))\n",
      "Data columns (total 11 columns):\n",
      " #   Column      Non-Null Count   Dtype  \n",
      "---  ------      --------------   -----  \n",
      " 0   return_1m   282041 non-null  float64\n",
      " 1   return_2m   282041 non-null  float64\n",
      " 2   return_3m   282041 non-null  float64\n",
      " 3   return_6m   282041 non-null  float64\n",
      " 4   return_9m   282041 non-null  float64\n",
      " 5   return_12m  282041 non-null  float64\n",
      " 6   Mkt-RF      282041 non-null  float64\n",
      " 7   SMB         282041 non-null  float64\n",
      " 8   HML         282041 non-null  float64\n",
      " 9   RMW         282041 non-null  float64\n",
      " 10  CMA         282041 non-null  float64\n",
      "dtypes: float64(11)\n",
      "memory usage: 32.9+ MB\n"
     ]
    }
   ],
   "source": [
    "data.loc[:, factors] = data.groupby('ticker', as_index=False, group_keys=False)[factors].apply(lambda x: x.fillna(x.mean()))\n",
    "data.info()"
   ]
  },
  {
   "cell_type": "code",
   "execution_count": 70,
   "id": "c93df6c6-084e-46a0-8a5b-a0c054264b4d",
   "metadata": {},
   "outputs": [],
   "source": [
    "for lag in [2,3,6,9,12]:\n",
    "    data[f'momentum_{lag}'] = data[f'return_{lag}m'].sub(data.return_1m)\n",
    "data[f'momentum_3_12'] = data[f'return_12m'].sub(data.return_3m)"
   ]
  },
  {
   "cell_type": "code",
   "execution_count": 71,
   "id": "cee3f40a-a66d-4e40-a3b3-c1a0904b2f40",
   "metadata": {},
   "outputs": [],
   "source": [
    "dates = data.index.get_level_values('date')\n",
    "data['year'] = dates.year\n",
    "data['month'] = dates.month"
   ]
  },
  {
   "cell_type": "code",
   "execution_count": 72,
   "id": "66650c8d-f1aa-41f7-ac09-953460d20511",
   "metadata": {},
   "outputs": [
    {
     "name": "stdout",
     "output_type": "stream",
     "text": [
      "<class 'pandas.core.frame.DataFrame'>\n",
      "MultiIndex: 282041 entries, ('A', Timestamp('2001-01-31 00:00:00')) to ('ZUMZ', Timestamp('2018-03-31 00:00:00'))\n",
      "Data columns (total 25 columns):\n",
      " #   Column         Non-Null Count   Dtype  \n",
      "---  ------         --------------   -----  \n",
      " 0   return_1m      282041 non-null  float64\n",
      " 1   return_2m      282041 non-null  float64\n",
      " 2   return_3m      282041 non-null  float64\n",
      " 3   return_6m      282041 non-null  float64\n",
      " 4   return_9m      282041 non-null  float64\n",
      " 5   return_12m     282041 non-null  float64\n",
      " 6   Mkt-RF         282041 non-null  float64\n",
      " 7   SMB            282041 non-null  float64\n",
      " 8   HML            282041 non-null  float64\n",
      " 9   RMW            282041 non-null  float64\n",
      " 10  CMA            282041 non-null  float64\n",
      " 11  momentum_2     282041 non-null  float64\n",
      " 12  momentum_3     282041 non-null  float64\n",
      " 13  momentum_6     282041 non-null  float64\n",
      " 14  momentum_9     282041 non-null  float64\n",
      " 15  momentum_12    282041 non-null  float64\n",
      " 16  momentum_3_12  282041 non-null  float64\n",
      " 17  year           282041 non-null  int32  \n",
      " 18  month          282041 non-null  int32  \n",
      " 19  return_1m_t-1  280610 non-null  float64\n",
      " 20  return_1m_t-2  279179 non-null  float64\n",
      " 21  return_1m_t-3  277748 non-null  float64\n",
      " 22  return_1m_t-4  276317 non-null  float64\n",
      " 23  return_1m_t-5  274886 non-null  float64\n",
      " 24  return_1m_t-6  273455 non-null  float64\n",
      "dtypes: float64(23), int32(2)\n",
      "memory usage: 60.9+ MB\n"
     ]
    }
   ],
   "source": [
    "for t in range(1, 7):\n",
    "    data[f'return_1m_t-{t}'] = data.groupby(level='ticker').return_1m.shift(t)\n",
    "data.info()"
   ]
  },
  {
   "cell_type": "code",
   "execution_count": 73,
   "id": "5ff02c0b-9e41-4900-8a78-912eb3e0190d",
   "metadata": {},
   "outputs": [],
   "source": [
    "for t in [1,2,3,6,12]:\n",
    "    data[f'target_{t}m'] = data.groupby(level='ticker')[f'return_{t}m'].shift(-t)"
   ]
  },
  {
   "cell_type": "code",
   "execution_count": 74,
   "id": "bc59cc03-d0d7-4be3-aaf6-7c04dae843e4",
   "metadata": {},
   "outputs": [
    {
     "data": {
      "text/html": [
       "<div>\n",
       "<style scoped>\n",
       "    .dataframe tbody tr th:only-of-type {\n",
       "        vertical-align: middle;\n",
       "    }\n",
       "\n",
       "    .dataframe tbody tr th {\n",
       "        vertical-align: top;\n",
       "    }\n",
       "\n",
       "    .dataframe thead th {\n",
       "        text-align: right;\n",
       "    }\n",
       "</style>\n",
       "<table border=\"1\" class=\"dataframe\">\n",
       "  <thead>\n",
       "    <tr style=\"text-align: right;\">\n",
       "      <th></th>\n",
       "      <th></th>\n",
       "      <th>target_1m</th>\n",
       "      <th>target_2m</th>\n",
       "      <th>target_3m</th>\n",
       "      <th>return_1m</th>\n",
       "      <th>return_2m</th>\n",
       "      <th>return_3m</th>\n",
       "      <th>return_1m_t-1</th>\n",
       "      <th>return_1m_t-2</th>\n",
       "      <th>return_1m_t-3</th>\n",
       "    </tr>\n",
       "    <tr>\n",
       "      <th>ticker</th>\n",
       "      <th>date</th>\n",
       "      <th></th>\n",
       "      <th></th>\n",
       "      <th></th>\n",
       "      <th></th>\n",
       "      <th></th>\n",
       "      <th></th>\n",
       "      <th></th>\n",
       "      <th></th>\n",
       "      <th></th>\n",
       "    </tr>\n",
       "  </thead>\n",
       "  <tbody>\n",
       "    <tr>\n",
       "      <th rowspan=\"10\" valign=\"top\">A</th>\n",
       "      <th>2001-04-30</th>\n",
       "      <td>-0.140220</td>\n",
       "      <td>-0.087246</td>\n",
       "      <td>-0.098192</td>\n",
       "      <td>0.269444</td>\n",
       "      <td>0.040966</td>\n",
       "      <td>-0.105747</td>\n",
       "      <td>-0.146389</td>\n",
       "      <td>-0.312147</td>\n",
       "      <td>-0.003653</td>\n",
       "    </tr>\n",
       "    <tr>\n",
       "      <th>2001-05-31</th>\n",
       "      <td>-0.031008</td>\n",
       "      <td>-0.076414</td>\n",
       "      <td>-0.075527</td>\n",
       "      <td>-0.140220</td>\n",
       "      <td>0.044721</td>\n",
       "      <td>-0.023317</td>\n",
       "      <td>0.269444</td>\n",
       "      <td>-0.146389</td>\n",
       "      <td>-0.312147</td>\n",
       "    </tr>\n",
       "    <tr>\n",
       "      <th>2001-06-30</th>\n",
       "      <td>-0.119692</td>\n",
       "      <td>-0.097014</td>\n",
       "      <td>-0.155847</td>\n",
       "      <td>-0.031008</td>\n",
       "      <td>-0.087246</td>\n",
       "      <td>0.018842</td>\n",
       "      <td>-0.140220</td>\n",
       "      <td>0.269444</td>\n",
       "      <td>-0.146389</td>\n",
       "    </tr>\n",
       "    <tr>\n",
       "      <th>2001-07-31</th>\n",
       "      <td>-0.073750</td>\n",
       "      <td>-0.173364</td>\n",
       "      <td>-0.080114</td>\n",
       "      <td>-0.119692</td>\n",
       "      <td>-0.076414</td>\n",
       "      <td>-0.098192</td>\n",
       "      <td>-0.031008</td>\n",
       "      <td>-0.140220</td>\n",
       "      <td>0.269444</td>\n",
       "    </tr>\n",
       "    <tr>\n",
       "      <th>2001-08-31</th>\n",
       "      <td>-0.262264</td>\n",
       "      <td>-0.083279</td>\n",
       "      <td>0.009593</td>\n",
       "      <td>-0.073750</td>\n",
       "      <td>-0.097014</td>\n",
       "      <td>-0.075527</td>\n",
       "      <td>-0.119692</td>\n",
       "      <td>-0.031008</td>\n",
       "      <td>-0.140220</td>\n",
       "    </tr>\n",
       "    <tr>\n",
       "      <th>2001-09-30</th>\n",
       "      <td>0.139130</td>\n",
       "      <td>0.181052</td>\n",
       "      <td>0.134010</td>\n",
       "      <td>-0.262264</td>\n",
       "      <td>-0.173364</td>\n",
       "      <td>-0.155847</td>\n",
       "      <td>-0.073750</td>\n",
       "      <td>-0.119692</td>\n",
       "      <td>-0.031008</td>\n",
       "    </tr>\n",
       "    <tr>\n",
       "      <th>2001-10-31</th>\n",
       "      <td>0.224517</td>\n",
       "      <td>0.131458</td>\n",
       "      <td>0.108697</td>\n",
       "      <td>0.139130</td>\n",
       "      <td>-0.083279</td>\n",
       "      <td>-0.080114</td>\n",
       "      <td>-0.262264</td>\n",
       "      <td>-0.073750</td>\n",
       "      <td>-0.119692</td>\n",
       "    </tr>\n",
       "    <tr>\n",
       "      <th>2001-11-30</th>\n",
       "      <td>0.045471</td>\n",
       "      <td>0.054962</td>\n",
       "      <td>0.045340</td>\n",
       "      <td>0.224517</td>\n",
       "      <td>0.181052</td>\n",
       "      <td>0.009593</td>\n",
       "      <td>0.139130</td>\n",
       "      <td>-0.262264</td>\n",
       "      <td>-0.073750</td>\n",
       "    </tr>\n",
       "    <tr>\n",
       "      <th>2001-12-31</th>\n",
       "      <td>0.064539</td>\n",
       "      <td>0.045275</td>\n",
       "      <td>0.070347</td>\n",
       "      <td>0.045471</td>\n",
       "      <td>0.131458</td>\n",
       "      <td>0.134010</td>\n",
       "      <td>0.224517</td>\n",
       "      <td>0.139130</td>\n",
       "      <td>-0.262264</td>\n",
       "    </tr>\n",
       "    <tr>\n",
       "      <th>2002-01-31</th>\n",
       "      <td>0.026359</td>\n",
       "      <td>0.073264</td>\n",
       "      <td>-0.003306</td>\n",
       "      <td>0.064539</td>\n",
       "      <td>0.054962</td>\n",
       "      <td>0.108697</td>\n",
       "      <td>0.045471</td>\n",
       "      <td>0.224517</td>\n",
       "      <td>0.139130</td>\n",
       "    </tr>\n",
       "  </tbody>\n",
       "</table>\n",
       "</div>"
      ],
      "text/plain": [
       "                   target_1m  target_2m  target_3m  return_1m  return_2m  \\\n",
       "ticker date                                                                \n",
       "A      2001-04-30  -0.140220  -0.087246  -0.098192   0.269444   0.040966   \n",
       "       2001-05-31  -0.031008  -0.076414  -0.075527  -0.140220   0.044721   \n",
       "       2001-06-30  -0.119692  -0.097014  -0.155847  -0.031008  -0.087246   \n",
       "       2001-07-31  -0.073750  -0.173364  -0.080114  -0.119692  -0.076414   \n",
       "       2001-08-31  -0.262264  -0.083279   0.009593  -0.073750  -0.097014   \n",
       "       2001-09-30   0.139130   0.181052   0.134010  -0.262264  -0.173364   \n",
       "       2001-10-31   0.224517   0.131458   0.108697   0.139130  -0.083279   \n",
       "       2001-11-30   0.045471   0.054962   0.045340   0.224517   0.181052   \n",
       "       2001-12-31   0.064539   0.045275   0.070347   0.045471   0.131458   \n",
       "       2002-01-31   0.026359   0.073264  -0.003306   0.064539   0.054962   \n",
       "\n",
       "                   return_3m  return_1m_t-1  return_1m_t-2  return_1m_t-3  \n",
       "ticker date                                                                \n",
       "A      2001-04-30  -0.105747      -0.146389      -0.312147      -0.003653  \n",
       "       2001-05-31  -0.023317       0.269444      -0.146389      -0.312147  \n",
       "       2001-06-30   0.018842      -0.140220       0.269444      -0.146389  \n",
       "       2001-07-31  -0.098192      -0.031008      -0.140220       0.269444  \n",
       "       2001-08-31  -0.075527      -0.119692      -0.031008      -0.140220  \n",
       "       2001-09-30  -0.155847      -0.073750      -0.119692      -0.031008  \n",
       "       2001-10-31  -0.080114      -0.262264      -0.073750      -0.119692  \n",
       "       2001-11-30   0.009593       0.139130      -0.262264      -0.073750  \n",
       "       2001-12-31   0.134010       0.224517       0.139130      -0.262264  \n",
       "       2002-01-31   0.108697       0.045471       0.224517       0.139130  "
      ]
     },
     "execution_count": 74,
     "metadata": {},
     "output_type": "execute_result"
    }
   ],
   "source": [
    "cols = ['target_1m',\n",
    "        'target_2m',\n",
    "        'target_3m', \n",
    "        'return_1m',\n",
    "        'return_2m',\n",
    "        'return_3m',\n",
    "        'return_1m_t-1',\n",
    "        'return_1m_t-2',\n",
    "        'return_1m_t-3']\n",
    "\n",
    "data[cols].dropna().sort_index().head(10)"
   ]
  },
  {
   "cell_type": "code",
   "execution_count": 75,
   "id": "2ad7089e-2cff-49ce-bc79-ef6db8421a9f",
   "metadata": {},
   "outputs": [
    {
     "name": "stdout",
     "output_type": "stream",
     "text": [
      "<class 'pandas.core.frame.DataFrame'>\n",
      "MultiIndex: 282041 entries, ('A', Timestamp('2001-01-31 00:00:00')) to ('ZUMZ', Timestamp('2018-03-31 00:00:00'))\n",
      "Data columns (total 30 columns):\n",
      " #   Column         Non-Null Count   Dtype  \n",
      "---  ------         --------------   -----  \n",
      " 0   return_1m      282041 non-null  float64\n",
      " 1   return_2m      282041 non-null  float64\n",
      " 2   return_3m      282041 non-null  float64\n",
      " 3   return_6m      282041 non-null  float64\n",
      " 4   return_9m      282041 non-null  float64\n",
      " 5   return_12m     282041 non-null  float64\n",
      " 6   Mkt-RF         282041 non-null  float64\n",
      " 7   SMB            282041 non-null  float64\n",
      " 8   HML            282041 non-null  float64\n",
      " 9   RMW            282041 non-null  float64\n",
      " 10  CMA            282041 non-null  float64\n",
      " 11  momentum_2     282041 non-null  float64\n",
      " 12  momentum_3     282041 non-null  float64\n",
      " 13  momentum_6     282041 non-null  float64\n",
      " 14  momentum_9     282041 non-null  float64\n",
      " 15  momentum_12    282041 non-null  float64\n",
      " 16  momentum_3_12  282041 non-null  float64\n",
      " 17  year           282041 non-null  int32  \n",
      " 18  month          282041 non-null  int32  \n",
      " 19  return_1m_t-1  280610 non-null  float64\n",
      " 20  return_1m_t-2  279179 non-null  float64\n",
      " 21  return_1m_t-3  277748 non-null  float64\n",
      " 22  return_1m_t-4  276317 non-null  float64\n",
      " 23  return_1m_t-5  274886 non-null  float64\n",
      " 24  return_1m_t-6  273455 non-null  float64\n",
      " 25  target_1m      280610 non-null  float64\n",
      " 26  target_2m      279179 non-null  float64\n",
      " 27  target_3m      277748 non-null  float64\n",
      " 28  target_6m      273455 non-null  float64\n",
      " 29  target_12m     264869 non-null  float64\n",
      "dtypes: float64(28), int32(2)\n",
      "memory usage: 71.6+ MB\n"
     ]
    }
   ],
   "source": [
    "data.info()"
   ]
  },
  {
   "cell_type": "code",
   "execution_count": 76,
   "id": "7765c04b-c9be-4342-8ef3-687481290e6e",
   "metadata": {},
   "outputs": [],
   "source": [
    "# We use quintiles of IPO year as a proxy for company age.\n",
    "data = (data\n",
    "        .join(pd.qcut(stocks.ipoyear.astype(float), q=5, labels=list(range(1, 6)))\n",
    "              .astype(float)\n",
    "              .fillna(0)\n",
    "              .astype(int)\n",
    "              .to_frame('age')))\n",
    "data.age = data.age.fillna(-1)"
   ]
  },
  {
   "cell_type": "code",
   "execution_count": 77,
   "id": "1e0d5b99-f4d9-450f-bb00-471245c499e0",
   "metadata": {},
   "outputs": [
    {
     "name": "stdout",
     "output_type": "stream",
     "text": [
      "<class 'pandas.core.frame.DataFrame'>\n",
      "Index: 1795 entries, A to ZUMZ\n",
      "Data columns (total 3 columns):\n",
      " #   Column     Non-Null Count  Dtype \n",
      "---  ------     --------------  ----- \n",
      " 0   marketcap  1795 non-null   object\n",
      " 1   ipoyear    824 non-null    object\n",
      " 2   sector     1780 non-null   object\n",
      "dtypes: object(3)\n",
      "memory usage: 120.6+ KB\n"
     ]
    }
   ],
   "source": [
    "stocks.info()"
   ]
  },
  {
   "cell_type": "code",
   "execution_count": 78,
   "id": "3aad6a46",
   "metadata": {},
   "outputs": [
    {
     "name": "stdout",
     "output_type": "stream",
     "text": [
      "<class 'pandas.core.frame.DataFrame'>\n",
      "DatetimeIndex: 207 entries, 2018-03-31 to 2001-01-31\n",
      "Columns: 1431 entries, A to ZUMZ\n",
      "dtypes: float64(1431)\n",
      "memory usage: 2.3 MB\n"
     ]
    }
   ],
   "source": [
    "size_factor = (monthly_prices\n",
    "               .loc[data.index.get_level_values('date').unique(),\n",
    "                    data.index.get_level_values('ticker').unique()]\n",
    "               .sort_index(ascending=False)\n",
    "               .pct_change()\n",
    "               .fillna(0)\n",
    "               .add(1)\n",
    "               .cumprod())\n",
    "size_factor.info()"
   ]
  },
  {
   "cell_type": "code",
   "execution_count": 79,
   "id": "dc07e2f1",
   "metadata": {},
   "outputs": [],
   "source": [
    "msize = (size_factor\n",
    "         .mul(stocks\n",
    "              .loc[size_factor.columns, 'marketcap'].astype(float))).dropna(axis=1, how='all')"
   ]
  },
  {
   "cell_type": "code",
   "execution_count": 80,
   "id": "80e02df9",
   "metadata": {},
   "outputs": [],
   "source": [
    "data['msize'] = (msize\n",
    "                 .apply(lambda x: pd.qcut(x, q=10, labels=list(range(1, 11)))\n",
    "                        .astype(int), axis=1)\n",
    "                 .stack()\n",
    "                 .swaplevel())\n",
    "data.msize = data.msize.fillna(-1)"
   ]
  },
  {
   "cell_type": "code",
   "execution_count": 81,
   "id": "a4542ad9",
   "metadata": {},
   "outputs": [],
   "source": [
    "data = data.join(stocks[['sector']])\n",
    "data.sector = data.sector.fillna('Unknown')"
   ]
  },
  {
   "cell_type": "code",
   "execution_count": 82,
   "id": "d40cbe95",
   "metadata": {},
   "outputs": [
    {
     "name": "stdout",
     "output_type": "stream",
     "text": [
      "<class 'pandas.core.frame.DataFrame'>\n",
      "MultiIndex: 282041 entries, ('A', Timestamp('2001-01-31 00:00:00')) to ('ZUMZ', Timestamp('2018-03-31 00:00:00'))\n",
      "Data columns (total 33 columns):\n",
      " #   Column         Non-Null Count   Dtype  \n",
      "---  ------         --------------   -----  \n",
      " 0   return_1m      282041 non-null  float64\n",
      " 1   return_2m      282041 non-null  float64\n",
      " 2   return_3m      282041 non-null  float64\n",
      " 3   return_6m      282041 non-null  float64\n",
      " 4   return_9m      282041 non-null  float64\n",
      " 5   return_12m     282041 non-null  float64\n",
      " 6   Mkt-RF         282041 non-null  float64\n",
      " 7   SMB            282041 non-null  float64\n",
      " 8   HML            282041 non-null  float64\n",
      " 9   RMW            282041 non-null  float64\n",
      " 10  CMA            282041 non-null  float64\n",
      " 11  momentum_2     282041 non-null  float64\n",
      " 12  momentum_3     282041 non-null  float64\n",
      " 13  momentum_6     282041 non-null  float64\n",
      " 14  momentum_9     282041 non-null  float64\n",
      " 15  momentum_12    282041 non-null  float64\n",
      " 16  momentum_3_12  282041 non-null  float64\n",
      " 17  year           282041 non-null  int32  \n",
      " 18  month          282041 non-null  int32  \n",
      " 19  return_1m_t-1  280610 non-null  float64\n",
      " 20  return_1m_t-2  279179 non-null  float64\n",
      " 21  return_1m_t-3  277748 non-null  float64\n",
      " 22  return_1m_t-4  276317 non-null  float64\n",
      " 23  return_1m_t-5  274886 non-null  float64\n",
      " 24  return_1m_t-6  273455 non-null  float64\n",
      " 25  target_1m      280610 non-null  float64\n",
      " 26  target_2m      279179 non-null  float64\n",
      " 27  target_3m      277748 non-null  float64\n",
      " 28  target_6m      273455 non-null  float64\n",
      " 29  target_12m     264869 non-null  float64\n",
      " 30  age            282041 non-null  int64  \n",
      " 31  msize          282041 non-null  int64  \n",
      " 32  sector         282041 non-null  object \n",
      "dtypes: float64(28), int32(2), int64(2), object(1)\n",
      "memory usage: 78.1+ MB\n"
     ]
    }
   ],
   "source": [
    "data.info()"
   ]
  },
  {
   "cell_type": "code",
   "execution_count": 88,
   "id": "c4cba073",
   "metadata": {},
   "outputs": [
    {
     "name": "stdout",
     "output_type": "stream",
     "text": [
      "<class 'pandas.io.pytables.HDFStore'>\n",
      "File path: /Volumes/My Book/Data_Analysis/Nasdaq/assets.h5\n",
      "/engineered_features            frame        (shape->[280610,33])  \n",
      "/quandl/wiki/prices             frame        (shape->[15389314,12])\n",
      "/quandl/wiki/stocks             frame        (shape->[1,2])        \n",
      "/sp500/fred                     frame        (shape->[2607,1])     \n",
      "/sp500/stocks                   frame        (shape->[503,7])      \n",
      "/sp500/stooq                    frame        (shape->[18734,5])    \n",
      "/us_equities/stocks             frame        (shape->[1,10])       \n",
      "<class 'pandas.core.series.Series'>\n",
      "DatetimeIndex: 2607 entries, 2014-02-18 to 2024-02-14\n",
      "Series name: S&P500\n",
      "Non-Null Count  Dtype  \n",
      "--------------  -----  \n",
      "2606 non-null   float64\n",
      "dtypes: float64(1)\n",
      "memory usage: 40.7 KB\n"
     ]
    }
   ],
   "source": [
    "with pd.HDFStore(DATA_STORE) as store:\n",
    "    store.put('engineered_features', data.sort_index().loc[idx[:, :datetime(2018, 3, 1)], :])\n",
    "    print(store.info())\n",
    "    #benchmark_rets = store['sp500/fred'].close.pct_change()\n",
    "    benchmark_rets.name = 'S&P500'\n",
    "    benchmark_rets.info()"
   ]
  },
  {
   "cell_type": "code",
   "execution_count": 84,
   "id": "6242adb4",
   "metadata": {},
   "outputs": [
    {
     "name": "stdout",
     "output_type": "stream",
     "text": [
      "<class 'pandas.core.frame.DataFrame'>\n",
      "MultiIndex: 282041 entries, ('A', Timestamp('2001-01-31 00:00:00')) to ('ZUMZ', Timestamp('2018-03-31 00:00:00'))\n",
      "Data columns (total 87 columns):\n",
      " #   Column                  Non-Null Count   Dtype  \n",
      "---  ------                  --------------   -----  \n",
      " 0   return_1m               282041 non-null  float64\n",
      " 1   return_2m               282041 non-null  float64\n",
      " 2   return_3m               282041 non-null  float64\n",
      " 3   return_6m               282041 non-null  float64\n",
      " 4   return_9m               282041 non-null  float64\n",
      " 5   return_12m              282041 non-null  float64\n",
      " 6   Mkt-RF                  282041 non-null  float64\n",
      " 7   SMB                     282041 non-null  float64\n",
      " 8   HML                     282041 non-null  float64\n",
      " 9   RMW                     282041 non-null  float64\n",
      " 10  CMA                     282041 non-null  float64\n",
      " 11  momentum_2              282041 non-null  float64\n",
      " 12  momentum_3              282041 non-null  float64\n",
      " 13  momentum_6              282041 non-null  float64\n",
      " 14  momentum_9              282041 non-null  float64\n",
      " 15  momentum_12             282041 non-null  float64\n",
      " 16  momentum_3_12           282041 non-null  float64\n",
      " 17  return_1m_t-1           280610 non-null  float64\n",
      " 18  return_1m_t-2           279179 non-null  float64\n",
      " 19  return_1m_t-3           277748 non-null  float64\n",
      " 20  return_1m_t-4           276317 non-null  float64\n",
      " 21  return_1m_t-5           274886 non-null  float64\n",
      " 22  return_1m_t-6           273455 non-null  float64\n",
      " 23  target_1m               280610 non-null  float64\n",
      " 24  target_2m               279179 non-null  float64\n",
      " 25  target_3m               277748 non-null  float64\n",
      " 26  target_6m               273455 non-null  float64\n",
      " 27  target_12m              264869 non-null  float64\n",
      " 28  year_2001               282041 non-null  bool   \n",
      " 29  year_2002               282041 non-null  bool   \n",
      " 30  year_2003               282041 non-null  bool   \n",
      " 31  year_2004               282041 non-null  bool   \n",
      " 32  year_2005               282041 non-null  bool   \n",
      " 33  year_2006               282041 non-null  bool   \n",
      " 34  year_2007               282041 non-null  bool   \n",
      " 35  year_2008               282041 non-null  bool   \n",
      " 36  year_2009               282041 non-null  bool   \n",
      " 37  year_2010               282041 non-null  bool   \n",
      " 38  year_2011               282041 non-null  bool   \n",
      " 39  year_2012               282041 non-null  bool   \n",
      " 40  year_2013               282041 non-null  bool   \n",
      " 41  year_2014               282041 non-null  bool   \n",
      " 42  year_2015               282041 non-null  bool   \n",
      " 43  year_2016               282041 non-null  bool   \n",
      " 44  year_2017               282041 non-null  bool   \n",
      " 45  year_2018               282041 non-null  bool   \n",
      " 46  month_1                 282041 non-null  bool   \n",
      " 47  month_2                 282041 non-null  bool   \n",
      " 48  month_3                 282041 non-null  bool   \n",
      " 49  month_4                 282041 non-null  bool   \n",
      " 50  month_5                 282041 non-null  bool   \n",
      " 51  month_6                 282041 non-null  bool   \n",
      " 52  month_7                 282041 non-null  bool   \n",
      " 53  month_8                 282041 non-null  bool   \n",
      " 54  month_9                 282041 non-null  bool   \n",
      " 55  month_10                282041 non-null  bool   \n",
      " 56  month_11                282041 non-null  bool   \n",
      " 57  month_12                282041 non-null  bool   \n",
      " 58  msize_1                 282041 non-null  bool   \n",
      " 59  msize_2                 282041 non-null  bool   \n",
      " 60  msize_3                 282041 non-null  bool   \n",
      " 61  msize_4                 282041 non-null  bool   \n",
      " 62  msize_5                 282041 non-null  bool   \n",
      " 63  msize_6                 282041 non-null  bool   \n",
      " 64  msize_7                 282041 non-null  bool   \n",
      " 65  msize_8                 282041 non-null  bool   \n",
      " 66  msize_9                 282041 non-null  bool   \n",
      " 67  msize_10                282041 non-null  bool   \n",
      " 68  age_0                   282041 non-null  bool   \n",
      " 69  age_1                   282041 non-null  bool   \n",
      " 70  age_2                   282041 non-null  bool   \n",
      " 71  age_3                   282041 non-null  bool   \n",
      " 72  age_4                   282041 non-null  bool   \n",
      " 73  age_5                   282041 non-null  bool   \n",
      " 74  Basic Materials         282041 non-null  bool   \n",
      " 75  Consumer Discretionary  282041 non-null  bool   \n",
      " 76  Consumer Staples        282041 non-null  bool   \n",
      " 77  Energy                  282041 non-null  bool   \n",
      " 78  Finance                 282041 non-null  bool   \n",
      " 79  Health Care             282041 non-null  bool   \n",
      " 80  Industrials             282041 non-null  bool   \n",
      " 81  Miscellaneous           282041 non-null  bool   \n",
      " 82  Real Estate             282041 non-null  bool   \n",
      " 83  Technology              282041 non-null  bool   \n",
      " 84  Telecommunications      282041 non-null  bool   \n",
      " 85  Unknown                 282041 non-null  bool   \n",
      " 86  Utilities               282041 non-null  bool   \n",
      "dtypes: bool(59), float64(28)\n",
      "memory usage: 85.3+ MB\n"
     ]
    }
   ],
   "source": [
    "dummy_data = pd.get_dummies(data,\n",
    "                            columns=['year','month', 'msize', 'age',  'sector'],\n",
    "                            prefix=['year','month', 'msize', 'age', ''],\n",
    "                            prefix_sep=['_', '_', '_', '_', ''])\n",
    "dummy_data = dummy_data.rename(columns={c:c.replace('.0', '') for c in dummy_data.columns})\n",
    "dummy_data.info()"
   ]
  },
  {
   "cell_type": "code",
   "execution_count": null,
   "id": "a039f034",
   "metadata": {},
   "outputs": [],
   "source": []
  },
  {
   "cell_type": "code",
   "execution_count": null,
   "id": "f198e374",
   "metadata": {},
   "outputs": [],
   "source": []
  }
 ],
 "metadata": {
  "kernelspec": {
   "display_name": "Python 3 (ipykernel)",
   "language": "python",
   "name": "python3"
  },
  "language_info": {
   "codemirror_mode": {
    "name": "ipython",
    "version": 3
   },
   "file_extension": ".py",
   "mimetype": "text/x-python",
   "name": "python",
   "nbconvert_exporter": "python",
   "pygments_lexer": "ipython3",
   "version": "3.9.15"
  }
 },
 "nbformat": 4,
 "nbformat_minor": 5
}
