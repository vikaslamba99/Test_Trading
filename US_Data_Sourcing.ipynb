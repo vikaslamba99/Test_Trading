{
 "cells": [
  {
   "cell_type": "code",
   "execution_count": 1,
   "id": "23440678",
   "metadata": {},
   "outputs": [],
   "source": [
    "import warnings\n",
    "warnings.filterwarnings('ignore')"
   ]
  },
  {
   "cell_type": "code",
   "execution_count": 2,
   "id": "164b0811",
   "metadata": {},
   "outputs": [],
   "source": [
    "%matplotlib inline\n",
    "import os\n",
    "from datetime import datetime\n",
    "import pandas as pd\n",
    "import pandas_datareader.data as web\n",
    "import yfinance as yf\n",
    "import seaborn as sns\n",
    "import matplotlib.pyplot as plt\n",
    "import mplfinance as mpf\n",
    "import seaborn as sns\n",
    "from pathlib import Path\n",
    "from concurrent.futures import ThreadPoolExecutor"
   ]
  },
  {
   "cell_type": "code",
   "execution_count": 3,
   "id": "ecadaaf8",
   "metadata": {},
   "outputs": [],
   "source": [
    "data_path = Path('/Volumes/My Book/001_PM/001_Data') # set to e.g. external harddrive\n",
    "DATA_STORE = data_path/'all_us_stocks.h5'"
   ]
  },
  {
   "cell_type": "code",
   "execution_count": 102,
   "id": "f62ae94d",
   "metadata": {},
   "outputs": [
    {
     "name": "stdout",
     "output_type": "stream",
     "text": [
      "<class 'pandas.core.frame.DataFrame'>\n",
      "RangeIndex: 6782 entries, 0 to 6781\n",
      "Data columns (total 1 columns):\n",
      " #   Column  Non-Null Count  Dtype \n",
      "---  ------  --------------  ----- \n",
      " 0   Symbol  6781 non-null   object\n",
      "dtypes: object(1)\n",
      "memory usage: 53.1+ KB\n"
     ]
    }
   ],
   "source": [
    "all_us_stocks = (pd.read_csv(data_path/'US_ALL_Stocks.csv', dtype=str)\n",
    "     .sort_index())\n",
    "all_us_stocks.info()"
   ]
  },
  {
   "cell_type": "code",
   "execution_count": 4,
   "id": "2c17c563",
   "metadata": {},
   "outputs": [],
   "source": [
    "# sp_url = 'https://en.wikipedia.org/wiki/List_of_S%26P_500_companies'\n",
    "# sp500_constituents = pd.read_html(sp_url, header=0)[0]"
   ]
  },
  {
   "cell_type": "code",
   "execution_count": 103,
   "id": "286391ca",
   "metadata": {},
   "outputs": [],
   "source": [
    "# sp500_constituents.info()"
   ]
  },
  {
   "cell_type": "code",
   "execution_count": 104,
   "id": "bf2a56e4",
   "metadata": {},
   "outputs": [],
   "source": [
    "# sp500_constituents.head()"
   ]
  },
  {
   "cell_type": "code",
   "execution_count": 105,
   "id": "7fa984f8",
   "metadata": {},
   "outputs": [],
   "source": [
    "# print(sp500_constituents['Symbol'])"
   ]
  },
  {
   "cell_type": "code",
   "execution_count": 10,
   "id": "ed210464",
   "metadata": {},
   "outputs": [],
   "source": [
    "# all_us_stocks = (pd.read_csv(data_path/'US_ALL_Stocks.csv', dtype=str))\n",
    "# print(all_us_stocks.head(20))\n",
    "# symbol = all_us_stocks.loc[16]['Symbol']\n",
    "# ticker = yf.Ticker(symbol)\n",
    "# print(ticker)"
   ]
  },
  {
   "cell_type": "code",
   "execution_count": 80,
   "id": "2203b75f",
   "metadata": {},
   "outputs": [
    {
     "name": "stderr",
     "output_type": "stream",
     "text": [
      "[*********************100%%**********************]  3 of 3 completed\n"
     ]
    }
   ],
   "source": [
    "data = yf.download(all_us_stocks, start='2007-01-01', group_by=\"ticker\")"
   ]
  },
  {
   "cell_type": "code",
   "execution_count": 81,
   "id": "322a02c9",
   "metadata": {},
   "outputs": [
    {
     "data": {
      "text/html": [
       "<div>\n",
       "<style scoped>\n",
       "    .dataframe tbody tr th:only-of-type {\n",
       "        vertical-align: middle;\n",
       "    }\n",
       "\n",
       "    .dataframe tbody tr th {\n",
       "        vertical-align: top;\n",
       "    }\n",
       "\n",
       "    .dataframe thead tr th {\n",
       "        text-align: left;\n",
       "    }\n",
       "\n",
       "    .dataframe thead tr:last-of-type th {\n",
       "        text-align: right;\n",
       "    }\n",
       "</style>\n",
       "<table border=\"1\" class=\"dataframe\">\n",
       "  <thead>\n",
       "    <tr>\n",
       "      <th></th>\n",
       "      <th colspan=\"6\" halign=\"left\">AAPL</th>\n",
       "      <th colspan=\"6\" halign=\"left\">MMM</th>\n",
       "      <th colspan=\"6\" halign=\"left\">ABT</th>\n",
       "    </tr>\n",
       "    <tr>\n",
       "      <th></th>\n",
       "      <th>Open</th>\n",
       "      <th>High</th>\n",
       "      <th>Low</th>\n",
       "      <th>Close</th>\n",
       "      <th>Adj Close</th>\n",
       "      <th>Volume</th>\n",
       "      <th>Open</th>\n",
       "      <th>High</th>\n",
       "      <th>Low</th>\n",
       "      <th>Close</th>\n",
       "      <th>Adj Close</th>\n",
       "      <th>Volume</th>\n",
       "      <th>Open</th>\n",
       "      <th>High</th>\n",
       "      <th>Low</th>\n",
       "      <th>Close</th>\n",
       "      <th>Adj Close</th>\n",
       "      <th>Volume</th>\n",
       "    </tr>\n",
       "    <tr>\n",
       "      <th>Date</th>\n",
       "      <th></th>\n",
       "      <th></th>\n",
       "      <th></th>\n",
       "      <th></th>\n",
       "      <th></th>\n",
       "      <th></th>\n",
       "      <th></th>\n",
       "      <th></th>\n",
       "      <th></th>\n",
       "      <th></th>\n",
       "      <th></th>\n",
       "      <th></th>\n",
       "      <th></th>\n",
       "      <th></th>\n",
       "      <th></th>\n",
       "      <th></th>\n",
       "      <th></th>\n",
       "      <th></th>\n",
       "    </tr>\n",
       "  </thead>\n",
       "  <tbody>\n",
       "    <tr>\n",
       "      <th>2024-03-19</th>\n",
       "      <td>174.339996</td>\n",
       "      <td>176.610001</td>\n",
       "      <td>173.029999</td>\n",
       "      <td>176.080002</td>\n",
       "      <td>176.080002</td>\n",
       "      <td>55215200</td>\n",
       "      <td>88.453178</td>\n",
       "      <td>89.464882</td>\n",
       "      <td>87.416389</td>\n",
       "      <td>88.060204</td>\n",
       "      <td>88.060204</td>\n",
       "      <td>6987869</td>\n",
       "      <td>112.440002</td>\n",
       "      <td>114.419998</td>\n",
       "      <td>112.040001</td>\n",
       "      <td>113.160004</td>\n",
       "      <td>112.601562</td>\n",
       "      <td>8299200</td>\n",
       "    </tr>\n",
       "    <tr>\n",
       "      <th>2024-03-20</th>\n",
       "      <td>175.720001</td>\n",
       "      <td>178.669998</td>\n",
       "      <td>175.089996</td>\n",
       "      <td>178.669998</td>\n",
       "      <td>178.669998</td>\n",
       "      <td>53423100</td>\n",
       "      <td>87.784279</td>\n",
       "      <td>91.220734</td>\n",
       "      <td>87.324417</td>\n",
       "      <td>90.392975</td>\n",
       "      <td>90.392975</td>\n",
       "      <td>8390299</td>\n",
       "      <td>113.000000</td>\n",
       "      <td>113.239998</td>\n",
       "      <td>110.730003</td>\n",
       "      <td>111.500000</td>\n",
       "      <td>110.949753</td>\n",
       "      <td>8317300</td>\n",
       "    </tr>\n",
       "    <tr>\n",
       "      <th>2024-03-21</th>\n",
       "      <td>177.050003</td>\n",
       "      <td>177.490005</td>\n",
       "      <td>170.839996</td>\n",
       "      <td>171.369995</td>\n",
       "      <td>171.369995</td>\n",
       "      <td>106181300</td>\n",
       "      <td>90.468224</td>\n",
       "      <td>91.295990</td>\n",
       "      <td>90.125420</td>\n",
       "      <td>90.192307</td>\n",
       "      <td>90.192307</td>\n",
       "      <td>7886663</td>\n",
       "      <td>111.949997</td>\n",
       "      <td>112.139999</td>\n",
       "      <td>111.010002</td>\n",
       "      <td>111.510002</td>\n",
       "      <td>110.959702</td>\n",
       "      <td>9722700</td>\n",
       "    </tr>\n",
       "    <tr>\n",
       "      <th>2024-03-22</th>\n",
       "      <td>171.759995</td>\n",
       "      <td>173.050003</td>\n",
       "      <td>170.059998</td>\n",
       "      <td>172.279999</td>\n",
       "      <td>172.279999</td>\n",
       "      <td>71106600</td>\n",
       "      <td>89.966553</td>\n",
       "      <td>90.401337</td>\n",
       "      <td>89.255852</td>\n",
       "      <td>89.280937</td>\n",
       "      <td>89.280937</td>\n",
       "      <td>5321243</td>\n",
       "      <td>111.519997</td>\n",
       "      <td>111.980003</td>\n",
       "      <td>110.540001</td>\n",
       "      <td>110.570000</td>\n",
       "      <td>110.024338</td>\n",
       "      <td>5387100</td>\n",
       "    </tr>\n",
       "    <tr>\n",
       "      <th>2024-03-25</th>\n",
       "      <td>170.570007</td>\n",
       "      <td>171.940002</td>\n",
       "      <td>169.449997</td>\n",
       "      <td>170.850006</td>\n",
       "      <td>170.850006</td>\n",
       "      <td>54288300</td>\n",
       "      <td>88.545151</td>\n",
       "      <td>89.306023</td>\n",
       "      <td>87.608696</td>\n",
       "      <td>87.658859</td>\n",
       "      <td>87.658859</td>\n",
       "      <td>6680019</td>\n",
       "      <td>110.449997</td>\n",
       "      <td>110.800003</td>\n",
       "      <td>109.110001</td>\n",
       "      <td>110.010002</td>\n",
       "      <td>109.467110</td>\n",
       "      <td>6622400</td>\n",
       "    </tr>\n",
       "  </tbody>\n",
       "</table>\n",
       "</div>"
      ],
      "text/plain": [
       "                  AAPL                                                  \\\n",
       "                  Open        High         Low       Close   Adj Close   \n",
       "Date                                                                     \n",
       "2024-03-19  174.339996  176.610001  173.029999  176.080002  176.080002   \n",
       "2024-03-20  175.720001  178.669998  175.089996  178.669998  178.669998   \n",
       "2024-03-21  177.050003  177.490005  170.839996  171.369995  171.369995   \n",
       "2024-03-22  171.759995  173.050003  170.059998  172.279999  172.279999   \n",
       "2024-03-25  170.570007  171.940002  169.449997  170.850006  170.850006   \n",
       "\n",
       "                             MMM                                              \\\n",
       "               Volume       Open       High        Low      Close  Adj Close   \n",
       "Date                                                                           \n",
       "2024-03-19   55215200  88.453178  89.464882  87.416389  88.060204  88.060204   \n",
       "2024-03-20   53423100  87.784279  91.220734  87.324417  90.392975  90.392975   \n",
       "2024-03-21  106181300  90.468224  91.295990  90.125420  90.192307  90.192307   \n",
       "2024-03-22   71106600  89.966553  90.401337  89.255852  89.280937  89.280937   \n",
       "2024-03-25   54288300  88.545151  89.306023  87.608696  87.658859  87.658859   \n",
       "\n",
       "                            ABT                                      \\\n",
       "             Volume        Open        High         Low       Close   \n",
       "Date                                                                  \n",
       "2024-03-19  6987869  112.440002  114.419998  112.040001  113.160004   \n",
       "2024-03-20  8390299  113.000000  113.239998  110.730003  111.500000   \n",
       "2024-03-21  7886663  111.949997  112.139999  111.010002  111.510002   \n",
       "2024-03-22  5321243  111.519997  111.980003  110.540001  110.570000   \n",
       "2024-03-25  6680019  110.449997  110.800003  109.110001  110.010002   \n",
       "\n",
       "                                 \n",
       "             Adj Close   Volume  \n",
       "Date                             \n",
       "2024-03-19  112.601562  8299200  \n",
       "2024-03-20  110.949753  8317300  \n",
       "2024-03-21  110.959702  9722700  \n",
       "2024-03-22  110.024338  5387100  \n",
       "2024-03-25  109.467110  6622400  "
      ]
     },
     "execution_count": 81,
     "metadata": {},
     "output_type": "execute_result"
    }
   ],
   "source": [
    "# data.head()"
   ]
  },
  {
   "cell_type": "code",
   "execution_count": 112,
   "id": "8177ab12",
   "metadata": {},
   "outputs": [
    {
     "name": "stdout",
     "output_type": "stream",
     "text": [
      "175.72000122070312\n"
     ]
    }
   ],
   "source": [
    "print(data['AAPL']['Open']['2024-03-20'])"
   ]
  },
  {
   "cell_type": "code",
   "execution_count": 83,
   "id": "c8298c18",
   "metadata": {},
   "outputs": [],
   "source": [
    "with pd.HDFStore(DATA_STORE) as store:\n",
    "    store.put('all_us_stocks/prices', data)"
   ]
  },
  {
   "cell_type": "code",
   "execution_count": 88,
   "id": "96fe4cce",
   "metadata": {},
   "outputs": [],
   "source": [
    "with pd.HDFStore(DATA_STORE) as store:\n",
    "    us_stocks_prices = store['all_us_stocks/prices']"
   ]
  },
  {
   "cell_type": "code",
   "execution_count": 89,
   "id": "e735d30f",
   "metadata": {},
   "outputs": [],
   "source": [
    "# sp500_prices.set_index('A', inplace=True)"
   ]
  },
  {
   "cell_type": "code",
   "execution_count": 97,
   "id": "f0c4d12d",
   "metadata": {},
   "outputs": [
    {
     "name": "stdout",
     "output_type": "stream",
     "text": [
      "176.0800018310547\n"
     ]
    }
   ],
   "source": [
    "print(us_stocks_prices['AAPL']['Close']['2024-03-19'])"
   ]
  },
  {
   "cell_type": "code",
   "execution_count": 98,
   "id": "a49fddf6",
   "metadata": {},
   "outputs": [],
   "source": [
    "# def get_stats(ticker):\n",
    "#     info = yf.Tickers(ticker).tickers[ticker].info\n",
    "#     print(f\"{ticker} {info['currentPrice']} {info['previousClose']}\")\n",
    "\n",
    "# ticker_list = []\n",
    "# for x in range(4):\n",
    "#     ticker_list.append(all_us_stocks.loc[x]['Symbol'])\n",
    "    \n",
    "\n",
    "# with ThreadPoolExecutor() as executor:\n",
    "#     executor.map(get_stats, ticker_list)"
   ]
  },
  {
   "cell_type": "code",
   "execution_count": null,
   "id": "e4a9495c",
   "metadata": {},
   "outputs": [],
   "source": []
  }
 ],
 "metadata": {
  "kernelspec": {
   "display_name": "Python 3 (ipykernel)",
   "language": "python",
   "name": "python3"
  },
  "language_info": {
   "codemirror_mode": {
    "name": "ipython",
    "version": 3
   },
   "file_extension": ".py",
   "mimetype": "text/x-python",
   "name": "python",
   "nbconvert_exporter": "python",
   "pygments_lexer": "ipython3",
   "version": "3.9.15"
  }
 },
 "nbformat": 4,
 "nbformat_minor": 5
}
