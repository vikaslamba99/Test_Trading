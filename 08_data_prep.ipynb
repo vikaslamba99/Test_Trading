{
 "cells": [
  {
   "cell_type": "code",
   "execution_count": 9,
   "id": "6a231193",
   "metadata": {},
   "outputs": [],
   "source": [
    "from pathlib import Path\n",
    "import numpy as np\n",
    "import pandas as pd\n",
    "from scipy.stats import spearmanr"
   ]
  },
  {
   "cell_type": "code",
   "execution_count": 10,
   "id": "08b1422e",
   "metadata": {},
   "outputs": [],
   "source": [
    "pd.set_option('display.expand_frame_repr', False)\n",
    "np.random.seed(42)\n",
    "\n",
    "DATA_DIR = Path('/Volumes/My Book/Data_Analysis')"
   ]
  },
  {
   "cell_type": "code",
   "execution_count": 11,
   "id": "ae8a62d7",
   "metadata": {},
   "outputs": [],
   "source": [
    "def get_backtest_data(predictions='lasso/predictions'):\n",
    "    \"\"\"Combine chapter 7 lr/lasso/ridge regression predictions\n",
    "        with adjusted OHLCV Quandl Wiki data\"\"\"\n",
    "    with pd.HDFStore(DATA_DIR / 'Nasdaq/assets.h5') as store:\n",
    "        prices = (store['quandl/wiki/prices']\n",
    "                  .filter(like='adj')\n",
    "                  .rename(columns=lambda x: x.replace('adj_', ''))\n",
    "                  .swaplevel(axis=0))\n",
    "\n",
    "    with pd.HDFStore(DATA_DIR / 'Data/data.h5') as store:\n",
    "        print(store.info())\n",
    "        predictions = store[predictions]\n",
    "\n",
    "    best_alpha = predictions.groupby('alpha').apply(lambda x: spearmanr(x.actuals, x.predicted)[0]).idxmax()\n",
    "    predictions = predictions[predictions.alpha == best_alpha]\n",
    "    predictions.index.names = ['ticker', 'date']\n",
    "    tickers = predictions.index.get_level_values('ticker').unique()\n",
    "    start = predictions.index.get_level_values('date').min().strftime('%Y-%m-%d')\n",
    "    stop = (predictions.index.get_level_values('date').max() + pd.DateOffset(1)).strftime('%Y-%m-%d')\n",
    "    idx = pd.IndexSlice\n",
    "    prices = prices.sort_index().loc[idx[tickers, start:stop], :]\n",
    "    predictions = predictions.loc[predictions.alpha == best_alpha, ['predicted']]\n",
    "    return predictions.join(prices, how='right')"
   ]
  },
  {
   "cell_type": "code",
   "execution_count": 12,
   "id": "a3b48fcd",
   "metadata": {},
   "outputs": [
    {
     "name": "stdout",
     "output_type": "stream",
     "text": [
      "<class 'pandas.io.pytables.HDFStore'>\n",
      "File path: /Volumes/My Book/Data_Analysis/Data/data.h5\n",
      "/lasso/coeffs                    frame        (shape->[8,33])      \n",
      "/lasso/predictions               frame        (shape->[592240,3])  \n",
      "/lasso/scores                    frame        (shape->[6000,3])    \n",
      "/logistic/coeffs                 frame        (shape->[11,33])     \n",
      "/logistic/predictions            frame        (shape->[814330,4])  \n",
      "/logistic/scores                 frame        (shape->[825,5])     \n",
      "/lr/predictions                  frame        (shape->[74030,2])   \n",
      "/lr/scores                       frame        (shape->[750,2])     \n",
      "/model_data                      frame        (shape->[2168898,69])\n",
      "/ridge/coeffs                    frame        (shape->[18,33])     \n",
      "/ridge/predictions               frame        (shape->[1332540,3]) \n",
      "/ridge/scores                    frame        (shape->[13500,3])   \n",
      "<class 'pandas.core.frame.DataFrame'>\n",
      "MultiIndex: 185483 entries, ('AAPL', Timestamp('2014-12-09 00:00:00')) to ('ZTS', Timestamp('2017-11-30 00:00:00'))\n",
      "Data columns (total 6 columns):\n",
      " #   Column     Non-Null Count   Dtype  \n",
      "---  ------     --------------   -----  \n",
      " 0   predicted  74030 non-null   float64\n",
      " 1   open       185483 non-null  float64\n",
      " 2   high       185483 non-null  float64\n",
      " 3   low        185483 non-null  float64\n",
      " 4   close      185483 non-null  float64\n",
      " 5   volume     185483 non-null  float64\n",
      "dtypes: float64(6)\n",
      "memory usage: 14.0+ MB\n",
      "None\n"
     ]
    }
   ],
   "source": [
    "df = get_backtest_data('lasso/predictions')\n",
    "print(df.info())\n",
    "df.to_hdf(DATA_DIR / 'Data/backtest.h5', 'data')"
   ]
  },
  {
   "cell_type": "code",
   "execution_count": null,
   "id": "d13deb45",
   "metadata": {},
   "outputs": [],
   "source": []
  }
 ],
 "metadata": {
  "kernelspec": {
   "display_name": "Python 3 (ipykernel)",
   "language": "python",
   "name": "python3"
  },
  "language_info": {
   "codemirror_mode": {
    "name": "ipython",
    "version": 3
   },
   "file_extension": ".py",
   "mimetype": "text/x-python",
   "name": "python",
   "nbconvert_exporter": "python",
   "pygments_lexer": "ipython3",
   "version": "3.9.15"
  }
 },
 "nbformat": 4,
 "nbformat_minor": 5
}
